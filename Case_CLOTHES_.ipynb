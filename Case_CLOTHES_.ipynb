{
 "cells": [
  {
   "cell_type": "code",
   "execution_count": 19,
   "id": "022edda0-d1d9-43ba-9f3c-5a34d1008f41",
   "metadata": {},
   "outputs": [],
   "source": [
    "sales= [{'fecha': '2022-01-18', 'producto': 'Camisa', 'precio': 40, 'cantidad': 2, 'total': 80},\n",
    "    {'fecha': '2022-01-03', 'producto': 'Falda', 'precio': 50, 'cantidad': 1, 'total': 50},\n",
    "    {'fecha': '2022-02-17', 'producto': 'Camisa', 'precio': 40, 'cantidad': 3, 'total': 120},\n",
    "    {'fecha': '2022-03-11', 'producto': 'PantalÃƒÂ³n', 'precio': 60, 'cantidad': 2, 'total': 120},\n",
    "    {'fecha': '2022-02-12', 'producto': 'Camisa', 'precio': 40, 'cantidad': 1, 'total': 40},    \n",
    "    {'fecha': '2022-02-01', 'producto': 'Camisa', 'precio': 40, 'cantidad': 3, 'total': 120},\n",
    "    {'fecha': '2022-01-03', 'producto': 'PantalÃƒÂ³n', 'precio': 60, 'cantidad': 2, 'total': 120},\n",
    "    {'fecha': '2022-03-10', 'producto': 'Falda', 'precio': 50, 'cantidad': 1, 'total': 50},    \n",
    "    {'fecha': '2022-02-15', 'producto': 'Camisa', 'precio': 40, 'cantidad': 1, 'total': 40},    \n",
    "    {'fecha': '2022-02-01', 'producto': 'Camisa', 'precio': 40, 'cantidad': 3, 'total': 120},\n",
    "    {'fecha': '2022-01-05', 'producto': 'PantalÃƒÂ³n', 'precio': 60, 'cantidad': 2, 'total': 120},\n",
    "    {'fecha': '2022-03-25', 'producto': 'Chaqueta', 'precio': 80, 'cantidad': 1, 'total': 80}]"
   ]
  },
  {
   "cell_type": "code",
   "execution_count": 20,
   "id": "d152e1c1-09b6-4861-abc5-555c75f912e7",
   "metadata": {},
   "outputs": [
    {
     "data": {
      "text/plain": [
       "[{'fecha': '2022-01-18',\n",
       "  'producto': 'Camisa',\n",
       "  'precio': 40,\n",
       "  'cantidad': 2,\n",
       "  'total': 80},\n",
       " {'fecha': '2022-01-03',\n",
       "  'producto': 'Falda',\n",
       "  'precio': 50,\n",
       "  'cantidad': 1,\n",
       "  'total': 50},\n",
       " {'fecha': '2022-02-17',\n",
       "  'producto': 'Camisa',\n",
       "  'precio': 40,\n",
       "  'cantidad': 3,\n",
       "  'total': 120},\n",
       " {'fecha': '2022-03-11',\n",
       "  'producto': 'PantalÃƒÂ³n',\n",
       "  'precio': 60,\n",
       "  'cantidad': 2,\n",
       "  'total': 120},\n",
       " {'fecha': '2022-02-12',\n",
       "  'producto': 'Camisa',\n",
       "  'precio': 40,\n",
       "  'cantidad': 1,\n",
       "  'total': 40},\n",
       " {'fecha': '2022-02-01',\n",
       "  'producto': 'Camisa',\n",
       "  'precio': 40,\n",
       "  'cantidad': 3,\n",
       "  'total': 120},\n",
       " {'fecha': '2022-01-03',\n",
       "  'producto': 'PantalÃƒÂ³n',\n",
       "  'precio': 60,\n",
       "  'cantidad': 2,\n",
       "  'total': 120},\n",
       " {'fecha': '2022-03-10',\n",
       "  'producto': 'Falda',\n",
       "  'precio': 50,\n",
       "  'cantidad': 1,\n",
       "  'total': 50},\n",
       " {'fecha': '2022-02-15',\n",
       "  'producto': 'Camisa',\n",
       "  'precio': 40,\n",
       "  'cantidad': 1,\n",
       "  'total': 40},\n",
       " {'fecha': '2022-02-01',\n",
       "  'producto': 'Camisa',\n",
       "  'precio': 40,\n",
       "  'cantidad': 3,\n",
       "  'total': 120},\n",
       " {'fecha': '2022-01-05',\n",
       "  'producto': 'PantalÃƒÂ³n',\n",
       "  'precio': 60,\n",
       "  'cantidad': 2,\n",
       "  'total': 120},\n",
       " {'fecha': '2022-03-25',\n",
       "  'producto': 'Chaqueta',\n",
       "  'precio': 80,\n",
       "  'cantidad': 1,\n",
       "  'total': 80}]"
      ]
     },
     "execution_count": 20,
     "metadata": {},
     "output_type": "execute_result"
    }
   ],
   "source": [
    "sales"
   ]
  },
  {
   "cell_type": "code",
   "execution_count": 21,
   "id": "245a0edf-f9a7-4027-9076-a9680cc35c5b",
   "metadata": {},
   "outputs": [
    {
     "data": {
      "text/plain": [
       "list"
      ]
     },
     "execution_count": 21,
     "metadata": {},
     "output_type": "execute_result"
    }
   ],
   "source": [
    "type(sales)"
   ]
  },
  {
   "cell_type": "code",
   "execution_count": 22,
   "id": "6ea6eea7-6ab9-47e3-a80e-8c609740d872",
   "metadata": {},
   "outputs": [
    {
     "data": {
      "text/plain": [
       "{'fecha': '2022-01-18',\n",
       " 'producto': 'Camisa',\n",
       " 'precio': 40,\n",
       " 'cantidad': 2,\n",
       " 'total': 80}"
      ]
     },
     "execution_count": 22,
     "metadata": {},
     "output_type": "execute_result"
    }
   ],
   "source": [
    "sales[0]"
   ]
  },
  {
   "cell_type": "code",
   "execution_count": 23,
   "id": "c527b09b-045b-4edd-85a3-235de332f9d8",
   "metadata": {},
   "outputs": [
    {
     "data": {
      "text/plain": [
       "80"
      ]
     },
     "execution_count": 23,
     "metadata": {},
     "output_type": "execute_result"
    }
   ],
   "source": [
    "#we can access to the totals, using the index plus the keys\n",
    "sales[0]['total']"
   ]
  },
  {
   "cell_type": "code",
   "execution_count": 24,
   "id": "ffe32f20-6a2d-4b95-bc22-131f13c5994f",
   "metadata": {},
   "outputs": [],
   "source": [
    "#we need to calculate the total of the sales, so we need to create a while loop"
   ]
  },
  {
   "cell_type": "code",
   "execution_count": 25,
   "id": "f9b06352-b0a9-4770-a390-8fff8680d9b2",
   "metadata": {},
   "outputs": [
    {
     "name": "stdout",
     "output_type": "stream",
     "text": [
      "Total of sales: 1060\n"
     ]
    }
   ],
   "source": [
    "total_sales = 0\n",
    "\n",
    "for sale in sales:\n",
    "    total_sales += sale['total']\n",
    "print (\"Total of sales:\", total_sales)"
   ]
  },
  {
   "cell_type": "code",
   "execution_count": 26,
   "id": "3c556bdd-3f0e-4035-9233-6644aaa859ab",
   "metadata": {},
   "outputs": [
    {
     "data": {
      "text/plain": [
       "1060"
      ]
     },
     "execution_count": 26,
     "metadata": {},
     "output_type": "execute_result"
    }
   ],
   "source": [
    "total_sales"
   ]
  },
  {
   "cell_type": "code",
   "execution_count": 27,
   "id": "82b27bce-f753-41b3-9835-c9f6020a1570",
   "metadata": {},
   "outputs": [],
   "source": [
    "#we need to calculate the total of sales for the product pants (\"PantalÃƒÂ³n\")"
   ]
  },
  {
   "cell_type": "code",
   "execution_count": 28,
   "id": "8d70e805-fd12-4cc7-8b03-349c55ce9c2c",
   "metadata": {},
   "outputs": [
    {
     "data": {
      "text/plain": [
       "'Camisa'"
      ]
     },
     "execution_count": 28,
     "metadata": {},
     "output_type": "execute_result"
    }
   ],
   "source": [
    "sales[0]['producto']"
   ]
  },
  {
   "cell_type": "code",
   "execution_count": 29,
   "id": "d0e6c9ef-b6a9-4245-99ab-8a3974c55b85",
   "metadata": {},
   "outputs": [
    {
     "data": {
      "text/plain": [
       "2"
      ]
     },
     "execution_count": 29,
     "metadata": {},
     "output_type": "execute_result"
    }
   ],
   "source": [
    "sales[0]['cantidad']"
   ]
  },
  {
   "cell_type": "code",
   "execution_count": 30,
   "id": "616527d7-c10f-40d7-9ddd-06da31656bdf",
   "metadata": {},
   "outputs": [],
   "source": [
    "#new dictionary for pants and quantity"
   ]
  },
  {
   "cell_type": "code",
   "execution_count": 31,
   "id": "3a6bbc8d-e2b8-4ba2-862a-e6c36314c630",
   "metadata": {},
   "outputs": [],
   "source": [
    "diccionary = {'producto':'cantidad'}"
   ]
  },
  {
   "cell_type": "code",
   "execution_count": 32,
   "id": "f9571e43-f7cb-4e3b-88f4-2e22311fe429",
   "metadata": {},
   "outputs": [
    {
     "data": {
      "text/plain": [
       "{'Camisa': 2}"
      ]
     },
     "execution_count": 32,
     "metadata": {},
     "output_type": "execute_result"
    }
   ],
   "source": [
    "diccionary = {sales[0]['producto']:sales[0]['cantidad']}\n",
    "diccionary"
   ]
  },
  {
   "cell_type": "code",
   "execution_count": 33,
   "id": "b35b3290-d042-4e4e-95d3-781cf8d8895d",
   "metadata": {},
   "outputs": [],
   "source": [
    "#create a new dictionary for pants's sales\n",
    "sold_products = {}"
   ]
  },
  {
   "cell_type": "code",
   "execution_count": 34,
   "id": "def939a9-a36d-4539-89ce-6166f000307e",
   "metadata": {},
   "outputs": [
    {
     "name": "stdout",
     "output_type": "stream",
     "text": [
      "Quantity of sold products per type: {'Camisa': 13, 'Falda': 2, 'PantalÃƒÂ³n': 6, 'Chaqueta': 1}\n"
     ]
    }
   ],
   "source": [
    "for sale in sales: #we need to make a bucle for itirate in the dicctionary\n",
    "    producto = sale ['producto']\n",
    "\n",
    "    if producto in sold_products:\n",
    "        sold_products[producto] += sale ['cantidad']\n",
    "\n",
    "    else:\n",
    "        sold_products[producto]= sale['cantidad']\n",
    "print(\"Quantity of sold products per type:\", sold_products) "
   ]
  },
  {
   "cell_type": "code",
   "execution_count": 35,
   "id": "9bdff637-3bd7-4e18-8fec-735aff0b9b68",
   "metadata": {},
   "outputs": [
    {
     "data": {
      "text/plain": [
       "{'Camisa': 13, 'Falda': 2, 'PantalÃƒÂ³n': 6, 'Chaqueta': 1}"
      ]
     },
     "execution_count": 35,
     "metadata": {},
     "output_type": "execute_result"
    }
   ],
   "source": [
    "sold_products"
   ]
  },
  {
   "cell_type": "code",
   "execution_count": 36,
   "id": "9cab748e-b8a0-4426-a813-952e74908756",
   "metadata": {},
   "outputs": [],
   "source": [
    "#we need to calculates month's sales"
   ]
  },
  {
   "cell_type": "code",
   "execution_count": 37,
   "id": "70c67958-7b5a-4688-a67e-771c2d67c3a7",
   "metadata": {},
   "outputs": [
    {
     "data": {
      "text/plain": [
       "'2022-01-18'"
      ]
     },
     "execution_count": 37,
     "metadata": {},
     "output_type": "execute_result"
    }
   ],
   "source": [
    "sales[0]['fecha']"
   ]
  },
  {
   "cell_type": "code",
   "execution_count": 38,
   "id": "39094fd8-8deb-40b4-b0df-3037ec87ea3f",
   "metadata": {},
   "outputs": [
    {
     "data": {
      "text/plain": [
       "str"
      ]
     },
     "execution_count": 38,
     "metadata": {},
     "output_type": "execute_result"
    }
   ],
   "source": [
    "type (sales[0]['fecha'])"
   ]
  },
  {
   "cell_type": "code",
   "execution_count": 39,
   "id": "de6738b7-1b74-4648-8725-b80acb2772af",
   "metadata": {},
   "outputs": [
    {
     "data": {
      "text/plain": [
       "'01'"
      ]
     },
     "execution_count": 39,
     "metadata": {},
     "output_type": "execute_result"
    }
   ],
   "source": [
    "#because is str we can use slicing\n",
    "sales[0]['fecha'][5:7]"
   ]
  },
  {
   "cell_type": "code",
   "execution_count": 40,
   "id": "0f5a54bb-6abf-423e-9078-3c83014834ba",
   "metadata": {},
   "outputs": [
    {
     "name": "stdout",
     "output_type": "stream",
     "text": [
      "Total of monthly sales: {'01': 370, '02': 440, '03': 250}\n"
     ]
    }
   ],
   "source": [
    "month_sales ={}\n",
    "\n",
    "for sale in sales:\n",
    "    month = sale ['fecha'] [5:7]\n",
    "    if month in month_sales:\n",
    "        month_sales[month] += sale['total']\n",
    "    else:\n",
    "        month_sales[month] = sale['total']\n",
    "print (\"Total of monthly sales:\", month_sales)"
   ]
  },
  {
   "cell_type": "code",
   "execution_count": null,
   "id": "8e821798-d26c-4d5a-8156-78a5e1faf982",
   "metadata": {},
   "outputs": [],
   "source": []
  },
  {
   "cell_type": "code",
   "execution_count": null,
   "id": "4030635c-4dd3-47c1-b457-0080f20d5fa6",
   "metadata": {},
   "outputs": [],
   "source": []
  }
 ],
 "metadata": {
  "kernelspec": {
   "display_name": "Python 3 (ipykernel)",
   "language": "python",
   "name": "python3"
  },
  "language_info": {
   "codemirror_mode": {
    "name": "ipython",
    "version": 3
   },
   "file_extension": ".py",
   "mimetype": "text/x-python",
   "name": "python",
   "nbconvert_exporter": "python",
   "pygments_lexer": "ipython3",
   "version": "3.11.7"
  }
 },
 "nbformat": 4,
 "nbformat_minor": 5
}
